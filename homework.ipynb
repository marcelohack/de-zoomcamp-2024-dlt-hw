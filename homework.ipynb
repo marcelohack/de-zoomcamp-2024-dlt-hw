{
 "cells": [
  {
   "cell_type": "markdown",
   "metadata": {
    "id": "mrTFv5nPClXh"
   },
   "source": [
    "# **Homework**: Data talks club data engineering zoomcamp Data loading workshop\n",
    "\n",
    "Hello folks, let's practice what we learned - Loading data with the best practices of data engineering.\n",
    "\n",
    "Here are the exercises we will do\n",
    "\n",
    "\n"
   ]
  },
  {
   "cell_type": "markdown",
   "metadata": {
    "id": "wLF4iXf-NR7t"
   },
   "source": [
    "# 1. Use a generator\n",
    "\n",
    "Remember the concept of generator? Let's practice using them to futher our understanding of how they work.\n",
    "\n",
    "Let's define a generator and then run it as practice.\n",
    "\n",
    "**Answer the following questions:**\n",
    "\n",
    "- **Question 1: What is the sum of the outputs of the generator for limit = 5?**\n",
    "- **Question 2: What is the 13th number yielded**\n",
    "\n",
    "I suggest practicing these questions without GPT as the purpose is to further your learning."
   ]
  },
  {
   "cell_type": "code",
   "execution_count": 1,
   "metadata": {
    "colab": {
     "base_uri": "https://localhost:8080/"
    },
    "id": "wLng-bDJN4jf",
    "outputId": "547683cb-5f56-4815-a903-d0d9578eb1f9"
   },
   "outputs": [
    {
     "name": "stdout",
     "output_type": "stream",
     "text": [
      "1.0\n",
      "1.4142135623730951\n",
      "1.7320508075688772\n",
      "2.0\n",
      "2.23606797749979\n"
     ]
    }
   ],
   "source": [
    "def square_root_generator(limit):\n",
    "    n = 1\n",
    "    while n <= limit:\n",
    "        yield n ** 0.5\n",
    "        n += 1\n",
    "\n",
    "# Example usage:\n",
    "limit = 5\n",
    "generator = square_root_generator(limit)\n",
    "\n",
    "for sqrt_value in generator:\n",
    "    print(sqrt_value)\n"
   ]
  },
  {
   "cell_type": "markdown",
   "metadata": {
    "id": "xbe3q55zN43j"
   },
   "source": []
  },
  {
   "cell_type": "markdown",
   "metadata": {
    "id": "vjWhILzGJMpK"
   },
   "source": [
    "# 2. Append a generator to a table with existing data\n",
    "\n",
    "\n",
    "Below you have 2 generators. You will be tasked to load them to duckdb and answer some questions from the data\n",
    "\n",
    "1. Load the first generator and calculate the sum of ages of all people. Make sure to only load it once.\n",
    "2. Append the second generator to the same table as the first.\n",
    "3. **After correctly appending the data, calculate the sum of all ages of people.**\n",
    "\n",
    "\n"
   ]
  },
  {
   "cell_type": "code",
   "execution_count": 2,
   "metadata": {
    "colab": {
     "base_uri": "https://localhost:8080/"
    },
    "id": "2MoaQcdLBEk6",
    "outputId": "d2b93dc1-d83f-44ea-aeff-fdf51d75f7aa"
   },
   "outputs": [
    {
     "name": "stdout",
     "output_type": "stream",
     "text": [
      "{'ID': 1, 'Name': 'Person_1', 'Age': 26, 'City': 'City_A'}\n",
      "{'ID': 2, 'Name': 'Person_2', 'Age': 27, 'City': 'City_A'}\n",
      "{'ID': 3, 'Name': 'Person_3', 'Age': 28, 'City': 'City_A'}\n",
      "{'ID': 4, 'Name': 'Person_4', 'Age': 29, 'City': 'City_A'}\n",
      "{'ID': 5, 'Name': 'Person_5', 'Age': 30, 'City': 'City_A'}\n",
      "{'ID': 3, 'Name': 'Person_3', 'Age': 33, 'City': 'City_B', 'Occupation': 'Job_3'}\n",
      "{'ID': 4, 'Name': 'Person_4', 'Age': 34, 'City': 'City_B', 'Occupation': 'Job_4'}\n",
      "{'ID': 5, 'Name': 'Person_5', 'Age': 35, 'City': 'City_B', 'Occupation': 'Job_5'}\n",
      "{'ID': 6, 'Name': 'Person_6', 'Age': 36, 'City': 'City_B', 'Occupation': 'Job_6'}\n",
      "{'ID': 7, 'Name': 'Person_7', 'Age': 37, 'City': 'City_B', 'Occupation': 'Job_7'}\n",
      "{'ID': 8, 'Name': 'Person_8', 'Age': 38, 'City': 'City_B', 'Occupation': 'Job_8'}\n"
     ]
    }
   ],
   "source": [
    "def people_1():\n",
    "    for i in range(1, 6):\n",
    "        yield {\"ID\": i, \"Name\": f\"Person_{i}\", \"Age\": 25 + i, \"City\": \"City_A\"}\n",
    "\n",
    "for person in people_1():\n",
    "    print(person)\n",
    "\n",
    "\n",
    "def people_2():\n",
    "    for i in range(3, 9):\n",
    "        yield {\"ID\": i, \"Name\": f\"Person_{i}\", \"Age\": 30 + i, \"City\": \"City_B\", \"Occupation\": f\"Job_{i}\"}\n",
    "\n",
    "\n",
    "for person in people_2():\n",
    "    print(person)\n"
   ]
  },
  {
   "cell_type": "markdown",
   "metadata": {
    "id": "vtdTIm4fvQCN"
   },
   "source": []
  },
  {
   "cell_type": "markdown",
   "metadata": {
    "id": "pY4cFAWOSwN1"
   },
   "source": [
    "# 3. Merge a generator\n",
    "\n",
    "Re-use the generators from Exercise 2.\n",
    "\n",
    "A table's primary key needs to be created from the start, so load your data to a new table with primary key ID.\n",
    "\n",
    "Load your first generator first, and then load the second one with merge. Since they have overlapping IDs, some of the records from the first load should be replaced by the ones from the second load.\n",
    "\n",
    "After loading, you should have a total of 8 records, and ID 3 should have age 33.\n",
    "\n",
    "Question: **Calculate the sum of ages of all the people loaded as described above.**\n"
   ]
  },
  {
   "cell_type": "markdown",
   "metadata": {
    "id": "kKB2GTB9oVjr"
   },
   "source": [
    "# Solution: First make sure that the following modules are installed:"
   ]
  },
  {
   "cell_type": "code",
   "execution_count": 3,
   "metadata": {
    "id": "xTVvtyqrfVNq"
   },
   "outputs": [],
   "source": [
    "%%capture\n",
    "!pip install 'dlt[duckdb]'\n",
    "!pip install pandas numpy"
   ]
  },
  {
   "cell_type": "markdown",
   "metadata": {
    "id": "a2-PRBAkGC2K"
   },
   "source": [
    "# 1. Use a generator"
   ]
  },
  {
   "cell_type": "code",
   "execution_count": 4,
   "metadata": {
    "id": "a2-PRBAkGC2K"
   },
   "outputs": [
    {
     "name": "stdout",
     "output_type": "stream",
     "text": [
      "sum of the outputs of the generator for limit = 5: 8.382332347441762\n",
      "13th number yielded: 3.605551275463989\n"
     ]
    }
   ],
   "source": [
    "sum = 0\n",
    "for value in square_root_generator(5):\n",
    "    sum += value\n",
    "print('sum of the outputs of the generator for limit = 5:', sum)\n",
    "\n",
    "last_value = 0\n",
    "for i, value in enumerate(square_root_generator(13)):\n",
    "    if i + 1 == 13:\n",
    "        last_value = value\n",
    "\n",
    "print('13th number yielded:', last_value)\n"
   ]
  },
  {
   "cell_type": "markdown",
   "metadata": {},
   "source": [
    "# 2. Append a generator to a table with existing data"
   ]
  },
  {
   "cell_type": "code",
   "execution_count": 5,
   "metadata": {},
   "outputs": [
    {
     "name": "stdout",
     "output_type": "stream",
     "text": [
      "Pipeline append-people load step completed in 0.21 seconds\n",
      "1 load package(s) were loaded to destination duckdb and into dataset people_data\n",
      "The duckdb destination used duckdb:////Users/mhack/Projects/data-engineering/DataTalksClub/de-zoomcamp/de-zoomcamp-2024-dlt-hw/append-people.duckdb location to store data\n",
      "Load package 1707279121.096697 is LOADED and contains no failed jobs\n",
      "append-people Loaded tables: \n"
     ]
    },
    {
     "data": {
      "text/plain": [
       "┌─────────────────────┐\n",
       "│        name         │\n",
       "│       varchar       │\n",
       "├─────────────────────┤\n",
       "│ _dlt_loads          │\n",
       "│ _dlt_pipeline_state │\n",
       "│ _dlt_version        │\n",
       "│ people              │\n",
       "└─────────────────────┘"
      ]
     },
     "metadata": {},
     "output_type": "display_data"
    },
    {
     "name": "stdout",
     "output_type": "stream",
     "text": [
      "\n",
      "\n",
      "\n",
      " people table below:\n"
     ]
    },
    {
     "data": {
      "text/html": [
       "<div>\n",
       "<style scoped>\n",
       "    .dataframe tbody tr th:only-of-type {\n",
       "        vertical-align: middle;\n",
       "    }\n",
       "\n",
       "    .dataframe tbody tr th {\n",
       "        vertical-align: top;\n",
       "    }\n",
       "\n",
       "    .dataframe thead th {\n",
       "        text-align: right;\n",
       "    }\n",
       "</style>\n",
       "<table border=\"1\" class=\"dataframe\">\n",
       "  <thead>\n",
       "    <tr style=\"text-align: right;\">\n",
       "      <th></th>\n",
       "      <th>id</th>\n",
       "      <th>name</th>\n",
       "      <th>age</th>\n",
       "      <th>city</th>\n",
       "      <th>_dlt_load_id</th>\n",
       "      <th>_dlt_id</th>\n",
       "    </tr>\n",
       "  </thead>\n",
       "  <tbody>\n",
       "    <tr>\n",
       "      <th>0</th>\n",
       "      <td>1</td>\n",
       "      <td>Person_1</td>\n",
       "      <td>26</td>\n",
       "      <td>City_A</td>\n",
       "      <td>1707279121.096697</td>\n",
       "      <td>gSB+up8GBWgcOA</td>\n",
       "    </tr>\n",
       "    <tr>\n",
       "      <th>1</th>\n",
       "      <td>2</td>\n",
       "      <td>Person_2</td>\n",
       "      <td>27</td>\n",
       "      <td>City_A</td>\n",
       "      <td>1707279121.096697</td>\n",
       "      <td>9TUY6t8YaoHcag</td>\n",
       "    </tr>\n",
       "    <tr>\n",
       "      <th>2</th>\n",
       "      <td>3</td>\n",
       "      <td>Person_3</td>\n",
       "      <td>28</td>\n",
       "      <td>City_A</td>\n",
       "      <td>1707279121.096697</td>\n",
       "      <td>Ttvb/N5A5NFkKw</td>\n",
       "    </tr>\n",
       "    <tr>\n",
       "      <th>3</th>\n",
       "      <td>4</td>\n",
       "      <td>Person_4</td>\n",
       "      <td>29</td>\n",
       "      <td>City_A</td>\n",
       "      <td>1707279121.096697</td>\n",
       "      <td>V/bfI3/OYZ6Z9A</td>\n",
       "    </tr>\n",
       "    <tr>\n",
       "      <th>4</th>\n",
       "      <td>5</td>\n",
       "      <td>Person_5</td>\n",
       "      <td>30</td>\n",
       "      <td>City_A</td>\n",
       "      <td>1707279121.096697</td>\n",
       "      <td>chM4OTTpFfL7JA</td>\n",
       "    </tr>\n",
       "  </tbody>\n",
       "</table>\n",
       "</div>"
      ],
      "text/plain": [
       "   id      name  age    city       _dlt_load_id         _dlt_id\n",
       "0   1  Person_1   26  City_A  1707279121.096697  gSB+up8GBWgcOA\n",
       "1   2  Person_2   27  City_A  1707279121.096697  9TUY6t8YaoHcag\n",
       "2   3  Person_3   28  City_A  1707279121.096697  Ttvb/N5A5NFkKw\n",
       "3   4  Person_4   29  City_A  1707279121.096697  V/bfI3/OYZ6Z9A\n",
       "4   5  Person_5   30  City_A  1707279121.096697  chM4OTTpFfL7JA"
      ]
     },
     "metadata": {},
     "output_type": "display_data"
    },
    {
     "name": "stdout",
     "output_type": "stream",
     "text": [
      "sum of ages of all people gen 1: 140\n",
      "Pipeline append-people load step completed in 0.17 seconds\n",
      "1 load package(s) were loaded to destination duckdb and into dataset people_data\n",
      "The duckdb destination used duckdb:////Users/mhack/Projects/data-engineering/DataTalksClub/de-zoomcamp/de-zoomcamp-2024-dlt-hw/append-people.duckdb location to store data\n",
      "Load package 1707279121.744777 is LOADED and contains no failed jobs\n"
     ]
    },
    {
     "data": {
      "text/html": [
       "<div>\n",
       "<style scoped>\n",
       "    .dataframe tbody tr th:only-of-type {\n",
       "        vertical-align: middle;\n",
       "    }\n",
       "\n",
       "    .dataframe tbody tr th {\n",
       "        vertical-align: top;\n",
       "    }\n",
       "\n",
       "    .dataframe thead th {\n",
       "        text-align: right;\n",
       "    }\n",
       "</style>\n",
       "<table border=\"1\" class=\"dataframe\">\n",
       "  <thead>\n",
       "    <tr style=\"text-align: right;\">\n",
       "      <th></th>\n",
       "      <th>id</th>\n",
       "      <th>name</th>\n",
       "      <th>age</th>\n",
       "      <th>city</th>\n",
       "      <th>_dlt_load_id</th>\n",
       "      <th>_dlt_id</th>\n",
       "      <th>occupation</th>\n",
       "    </tr>\n",
       "  </thead>\n",
       "  <tbody>\n",
       "    <tr>\n",
       "      <th>0</th>\n",
       "      <td>1</td>\n",
       "      <td>Person_1</td>\n",
       "      <td>26</td>\n",
       "      <td>City_A</td>\n",
       "      <td>1707279121.096697</td>\n",
       "      <td>gSB+up8GBWgcOA</td>\n",
       "      <td>None</td>\n",
       "    </tr>\n",
       "    <tr>\n",
       "      <th>1</th>\n",
       "      <td>2</td>\n",
       "      <td>Person_2</td>\n",
       "      <td>27</td>\n",
       "      <td>City_A</td>\n",
       "      <td>1707279121.096697</td>\n",
       "      <td>9TUY6t8YaoHcag</td>\n",
       "      <td>None</td>\n",
       "    </tr>\n",
       "    <tr>\n",
       "      <th>2</th>\n",
       "      <td>3</td>\n",
       "      <td>Person_3</td>\n",
       "      <td>28</td>\n",
       "      <td>City_A</td>\n",
       "      <td>1707279121.096697</td>\n",
       "      <td>Ttvb/N5A5NFkKw</td>\n",
       "      <td>None</td>\n",
       "    </tr>\n",
       "    <tr>\n",
       "      <th>3</th>\n",
       "      <td>4</td>\n",
       "      <td>Person_4</td>\n",
       "      <td>29</td>\n",
       "      <td>City_A</td>\n",
       "      <td>1707279121.096697</td>\n",
       "      <td>V/bfI3/OYZ6Z9A</td>\n",
       "      <td>None</td>\n",
       "    </tr>\n",
       "    <tr>\n",
       "      <th>4</th>\n",
       "      <td>5</td>\n",
       "      <td>Person_5</td>\n",
       "      <td>30</td>\n",
       "      <td>City_A</td>\n",
       "      <td>1707279121.096697</td>\n",
       "      <td>chM4OTTpFfL7JA</td>\n",
       "      <td>None</td>\n",
       "    </tr>\n",
       "    <tr>\n",
       "      <th>5</th>\n",
       "      <td>3</td>\n",
       "      <td>Person_3</td>\n",
       "      <td>33</td>\n",
       "      <td>City_B</td>\n",
       "      <td>1707279121.744777</td>\n",
       "      <td>5/6rZrqsFmDkog</td>\n",
       "      <td>Job_3</td>\n",
       "    </tr>\n",
       "    <tr>\n",
       "      <th>6</th>\n",
       "      <td>4</td>\n",
       "      <td>Person_4</td>\n",
       "      <td>34</td>\n",
       "      <td>City_B</td>\n",
       "      <td>1707279121.744777</td>\n",
       "      <td>0Wk1KUhZZ3rdZQ</td>\n",
       "      <td>Job_4</td>\n",
       "    </tr>\n",
       "    <tr>\n",
       "      <th>7</th>\n",
       "      <td>5</td>\n",
       "      <td>Person_5</td>\n",
       "      <td>35</td>\n",
       "      <td>City_B</td>\n",
       "      <td>1707279121.744777</td>\n",
       "      <td>O0RT9MlXtW98kw</td>\n",
       "      <td>Job_5</td>\n",
       "    </tr>\n",
       "    <tr>\n",
       "      <th>8</th>\n",
       "      <td>6</td>\n",
       "      <td>Person_6</td>\n",
       "      <td>36</td>\n",
       "      <td>City_B</td>\n",
       "      <td>1707279121.744777</td>\n",
       "      <td>tATLSBPWiyinOA</td>\n",
       "      <td>Job_6</td>\n",
       "    </tr>\n",
       "    <tr>\n",
       "      <th>9</th>\n",
       "      <td>7</td>\n",
       "      <td>Person_7</td>\n",
       "      <td>37</td>\n",
       "      <td>City_B</td>\n",
       "      <td>1707279121.744777</td>\n",
       "      <td>7yCY2/OBBZkWbw</td>\n",
       "      <td>Job_7</td>\n",
       "    </tr>\n",
       "    <tr>\n",
       "      <th>10</th>\n",
       "      <td>8</td>\n",
       "      <td>Person_8</td>\n",
       "      <td>38</td>\n",
       "      <td>City_B</td>\n",
       "      <td>1707279121.744777</td>\n",
       "      <td>hilQk7dgM0vP5A</td>\n",
       "      <td>Job_8</td>\n",
       "    </tr>\n",
       "  </tbody>\n",
       "</table>\n",
       "</div>"
      ],
      "text/plain": [
       "    id      name  age    city       _dlt_load_id         _dlt_id occupation\n",
       "0    1  Person_1   26  City_A  1707279121.096697  gSB+up8GBWgcOA       None\n",
       "1    2  Person_2   27  City_A  1707279121.096697  9TUY6t8YaoHcag       None\n",
       "2    3  Person_3   28  City_A  1707279121.096697  Ttvb/N5A5NFkKw       None\n",
       "3    4  Person_4   29  City_A  1707279121.096697  V/bfI3/OYZ6Z9A       None\n",
       "4    5  Person_5   30  City_A  1707279121.096697  chM4OTTpFfL7JA       None\n",
       "5    3  Person_3   33  City_B  1707279121.744777  5/6rZrqsFmDkog      Job_3\n",
       "6    4  Person_4   34  City_B  1707279121.744777  0Wk1KUhZZ3rdZQ      Job_4\n",
       "7    5  Person_5   35  City_B  1707279121.744777  O0RT9MlXtW98kw      Job_5\n",
       "8    6  Person_6   36  City_B  1707279121.744777  tATLSBPWiyinOA      Job_6\n",
       "9    7  Person_7   37  City_B  1707279121.744777  7yCY2/OBBZkWbw      Job_7\n",
       "10   8  Person_8   38  City_B  1707279121.744777  hilQk7dgM0vP5A      Job_8"
      ]
     },
     "metadata": {},
     "output_type": "display_data"
    },
    {
     "name": "stdout",
     "output_type": "stream",
     "text": [
      "sum of ages of all appended people: 353\n"
     ]
    }
   ],
   "source": [
    "import dlt\n",
    "import duckdb\n",
    "\n",
    "pipeline = dlt.pipeline(pipeline_name='append-people', destination='duckdb', dataset_name='people_data')\n",
    "\n",
    "info = pipeline.run(people_1(), table_name=\"people\", write_disposition=\"replace\")\n",
    "print(info)\n",
    "\n",
    "conn = duckdb.connect(f\"{pipeline.pipeline_name}.duckdb\")\n",
    "\n",
    "# let's see the tables\n",
    "conn.sql(f\"SET search_path = '{pipeline.dataset_name}'\")\n",
    "print(f'{pipeline.pipeline_name} Loaded tables: ')\n",
    "display(conn.sql(\"show tables\"))\n",
    "\n",
    "# and the data\n",
    "\n",
    "print(\"\\n\\n\\n people table below:\")\n",
    "\n",
    "people_gen1_df = conn.sql(\"SELECT * FROM people\").df()\n",
    "display(people_gen1_df)\n",
    "sum_people_gen1_age = people_gen1_df['age'].sum()\n",
    "print('sum of ages of all people gen 1:', sum_people_gen1_age)\n",
    "\n",
    "info = pipeline.run(people_2(), table_name=\"people\", write_disposition=\"append\")\n",
    "print(info)\n",
    "\n",
    "appended_people_df = conn.sql(\"SELECT * FROM people\").df()\n",
    "display(appended_people_df)\n",
    "sum_all_appended_people_age = appended_people_df['age'].sum()\n",
    "print('sum of ages of all appended people:', sum_all_appended_people_age)\n"
   ]
  },
  {
   "cell_type": "markdown",
   "metadata": {},
   "source": [
    "# 3. Merge a generator"
   ]
  },
  {
   "cell_type": "code",
   "execution_count": 6,
   "metadata": {},
   "outputs": [
    {
     "name": "stdout",
     "output_type": "stream",
     "text": [
      "Pipeline merge-people load step completed in 0.20 seconds\n",
      "1 load package(s) were loaded to destination duckdb and into dataset people_data\n",
      "The duckdb destination used duckdb:////Users/mhack/Projects/data-engineering/DataTalksClub/de-zoomcamp/de-zoomcamp-2024-dlt-hw/merge-people.duckdb location to store data\n",
      "Load package 1707279122.351243 is LOADED and contains no failed jobs\n",
      "merge-people Loaded tables: \n"
     ]
    },
    {
     "data": {
      "text/plain": [
       "┌─────────────────────┐\n",
       "│        name         │\n",
       "│       varchar       │\n",
       "├─────────────────────┤\n",
       "│ _dlt_loads          │\n",
       "│ _dlt_pipeline_state │\n",
       "│ _dlt_version        │\n",
       "│ people              │\n",
       "└─────────────────────┘"
      ]
     },
     "metadata": {},
     "output_type": "display_data"
    },
    {
     "name": "stdout",
     "output_type": "stream",
     "text": [
      "\n",
      "\n",
      "\n",
      " people table below:\n"
     ]
    },
    {
     "data": {
      "text/html": [
       "<div>\n",
       "<style scoped>\n",
       "    .dataframe tbody tr th:only-of-type {\n",
       "        vertical-align: middle;\n",
       "    }\n",
       "\n",
       "    .dataframe tbody tr th {\n",
       "        vertical-align: top;\n",
       "    }\n",
       "\n",
       "    .dataframe thead th {\n",
       "        text-align: right;\n",
       "    }\n",
       "</style>\n",
       "<table border=\"1\" class=\"dataframe\">\n",
       "  <thead>\n",
       "    <tr style=\"text-align: right;\">\n",
       "      <th></th>\n",
       "      <th>id</th>\n",
       "      <th>name</th>\n",
       "      <th>age</th>\n",
       "      <th>city</th>\n",
       "      <th>_dlt_load_id</th>\n",
       "      <th>_dlt_id</th>\n",
       "    </tr>\n",
       "  </thead>\n",
       "  <tbody>\n",
       "    <tr>\n",
       "      <th>0</th>\n",
       "      <td>1</td>\n",
       "      <td>Person_1</td>\n",
       "      <td>26</td>\n",
       "      <td>City_A</td>\n",
       "      <td>1707279122.351243</td>\n",
       "      <td>mVH8TPDyuwyTSA</td>\n",
       "    </tr>\n",
       "    <tr>\n",
       "      <th>1</th>\n",
       "      <td>2</td>\n",
       "      <td>Person_2</td>\n",
       "      <td>27</td>\n",
       "      <td>City_A</td>\n",
       "      <td>1707279122.351243</td>\n",
       "      <td>yAG+JLsWJTAHvA</td>\n",
       "    </tr>\n",
       "    <tr>\n",
       "      <th>2</th>\n",
       "      <td>3</td>\n",
       "      <td>Person_3</td>\n",
       "      <td>28</td>\n",
       "      <td>City_A</td>\n",
       "      <td>1707279122.351243</td>\n",
       "      <td>1UlwMwGuHe3oBw</td>\n",
       "    </tr>\n",
       "    <tr>\n",
       "      <th>3</th>\n",
       "      <td>4</td>\n",
       "      <td>Person_4</td>\n",
       "      <td>29</td>\n",
       "      <td>City_A</td>\n",
       "      <td>1707279122.351243</td>\n",
       "      <td>tT7QdR8xemyIOQ</td>\n",
       "    </tr>\n",
       "    <tr>\n",
       "      <th>4</th>\n",
       "      <td>5</td>\n",
       "      <td>Person_5</td>\n",
       "      <td>30</td>\n",
       "      <td>City_A</td>\n",
       "      <td>1707279122.351243</td>\n",
       "      <td>xXb9l47uZsmq8A</td>\n",
       "    </tr>\n",
       "  </tbody>\n",
       "</table>\n",
       "</div>"
      ],
      "text/plain": [
       "   id      name  age    city       _dlt_load_id         _dlt_id\n",
       "0   1  Person_1   26  City_A  1707279122.351243  mVH8TPDyuwyTSA\n",
       "1   2  Person_2   27  City_A  1707279122.351243  yAG+JLsWJTAHvA\n",
       "2   3  Person_3   28  City_A  1707279122.351243  1UlwMwGuHe3oBw\n",
       "3   4  Person_4   29  City_A  1707279122.351243  tT7QdR8xemyIOQ\n",
       "4   5  Person_5   30  City_A  1707279122.351243  xXb9l47uZsmq8A"
      ]
     },
     "metadata": {},
     "output_type": "display_data"
    },
    {
     "name": "stdout",
     "output_type": "stream",
     "text": [
      "Pipeline merge-people load step completed in 0.32 seconds\n",
      "1 load package(s) were loaded to destination duckdb and into dataset people_data\n",
      "The duckdb destination used duckdb:////Users/mhack/Projects/data-engineering/DataTalksClub/de-zoomcamp/de-zoomcamp-2024-dlt-hw/merge-people.duckdb location to store data\n",
      "Load package 1707279122.9740531 is LOADED and contains no failed jobs\n"
     ]
    },
    {
     "data": {
      "text/html": [
       "<div>\n",
       "<style scoped>\n",
       "    .dataframe tbody tr th:only-of-type {\n",
       "        vertical-align: middle;\n",
       "    }\n",
       "\n",
       "    .dataframe tbody tr th {\n",
       "        vertical-align: top;\n",
       "    }\n",
       "\n",
       "    .dataframe thead th {\n",
       "        text-align: right;\n",
       "    }\n",
       "</style>\n",
       "<table border=\"1\" class=\"dataframe\">\n",
       "  <thead>\n",
       "    <tr style=\"text-align: right;\">\n",
       "      <th></th>\n",
       "      <th>id</th>\n",
       "      <th>name</th>\n",
       "      <th>age</th>\n",
       "      <th>city</th>\n",
       "      <th>_dlt_load_id</th>\n",
       "      <th>_dlt_id</th>\n",
       "      <th>occupation</th>\n",
       "    </tr>\n",
       "  </thead>\n",
       "  <tbody>\n",
       "    <tr>\n",
       "      <th>0</th>\n",
       "      <td>1</td>\n",
       "      <td>Person_1</td>\n",
       "      <td>26</td>\n",
       "      <td>City_A</td>\n",
       "      <td>1707279122.351243</td>\n",
       "      <td>mVH8TPDyuwyTSA</td>\n",
       "      <td>None</td>\n",
       "    </tr>\n",
       "    <tr>\n",
       "      <th>1</th>\n",
       "      <td>2</td>\n",
       "      <td>Person_2</td>\n",
       "      <td>27</td>\n",
       "      <td>City_A</td>\n",
       "      <td>1707279122.351243</td>\n",
       "      <td>yAG+JLsWJTAHvA</td>\n",
       "      <td>None</td>\n",
       "    </tr>\n",
       "    <tr>\n",
       "      <th>2</th>\n",
       "      <td>7</td>\n",
       "      <td>Person_7</td>\n",
       "      <td>37</td>\n",
       "      <td>City_B</td>\n",
       "      <td>1707279122.9740531</td>\n",
       "      <td>ZDq3Jt2NUzejxw</td>\n",
       "      <td>Job_7</td>\n",
       "    </tr>\n",
       "    <tr>\n",
       "      <th>3</th>\n",
       "      <td>8</td>\n",
       "      <td>Person_8</td>\n",
       "      <td>38</td>\n",
       "      <td>City_B</td>\n",
       "      <td>1707279122.9740531</td>\n",
       "      <td>eRbGuy6RI7xJjw</td>\n",
       "      <td>Job_8</td>\n",
       "    </tr>\n",
       "    <tr>\n",
       "      <th>4</th>\n",
       "      <td>4</td>\n",
       "      <td>Person_4</td>\n",
       "      <td>34</td>\n",
       "      <td>City_B</td>\n",
       "      <td>1707279122.9740531</td>\n",
       "      <td>1No8SwYgBnZTpg</td>\n",
       "      <td>Job_4</td>\n",
       "    </tr>\n",
       "    <tr>\n",
       "      <th>5</th>\n",
       "      <td>3</td>\n",
       "      <td>Person_3</td>\n",
       "      <td>33</td>\n",
       "      <td>City_B</td>\n",
       "      <td>1707279122.9740531</td>\n",
       "      <td>SV6DtJDVFQ+Svw</td>\n",
       "      <td>Job_3</td>\n",
       "    </tr>\n",
       "    <tr>\n",
       "      <th>6</th>\n",
       "      <td>6</td>\n",
       "      <td>Person_6</td>\n",
       "      <td>36</td>\n",
       "      <td>City_B</td>\n",
       "      <td>1707279122.9740531</td>\n",
       "      <td>YZMoYqKyPkirNg</td>\n",
       "      <td>Job_6</td>\n",
       "    </tr>\n",
       "    <tr>\n",
       "      <th>7</th>\n",
       "      <td>5</td>\n",
       "      <td>Person_5</td>\n",
       "      <td>35</td>\n",
       "      <td>City_B</td>\n",
       "      <td>1707279122.9740531</td>\n",
       "      <td>7NGXTi9ugMAn9Q</td>\n",
       "      <td>Job_5</td>\n",
       "    </tr>\n",
       "  </tbody>\n",
       "</table>\n",
       "</div>"
      ],
      "text/plain": [
       "   id      name  age    city        _dlt_load_id         _dlt_id occupation\n",
       "0   1  Person_1   26  City_A   1707279122.351243  mVH8TPDyuwyTSA       None\n",
       "1   2  Person_2   27  City_A   1707279122.351243  yAG+JLsWJTAHvA       None\n",
       "2   7  Person_7   37  City_B  1707279122.9740531  ZDq3Jt2NUzejxw      Job_7\n",
       "3   8  Person_8   38  City_B  1707279122.9740531  eRbGuy6RI7xJjw      Job_8\n",
       "4   4  Person_4   34  City_B  1707279122.9740531  1No8SwYgBnZTpg      Job_4\n",
       "5   3  Person_3   33  City_B  1707279122.9740531  SV6DtJDVFQ+Svw      Job_3\n",
       "6   6  Person_6   36  City_B  1707279122.9740531  YZMoYqKyPkirNg      Job_6\n",
       "7   5  Person_5   35  City_B  1707279122.9740531  7NGXTi9ugMAn9Q      Job_5"
      ]
     },
     "metadata": {},
     "output_type": "display_data"
    },
    {
     "name": "stdout",
     "output_type": "stream",
     "text": [
      "sum of ages of all merged people: 266\n"
     ]
    }
   ],
   "source": [
    "pipeline = dlt.pipeline(pipeline_name='merge-people', destination='duckdb', dataset_name='people_data')\n",
    "\n",
    "info = pipeline.run(people_1(), table_name=\"people\", write_disposition=\"replace\", primary_key='id')\n",
    "print(info)\n",
    "\n",
    "conn = duckdb.connect(f\"{pipeline.pipeline_name}.duckdb\")\n",
    "\n",
    "# let's see the tables\n",
    "conn.sql(f\"SET search_path = '{pipeline.dataset_name}'\")\n",
    "print(f'{pipeline.pipeline_name} Loaded tables: ')\n",
    "display(conn.sql(\"show tables\"))\n",
    "\n",
    "print(\"\\n\\n\\n people table below:\")\n",
    "\n",
    "people_gen1_df = conn.sql(\"SELECT * FROM people\").df()\n",
    "display(people_gen1_df)\n",
    "\n",
    "info = pipeline.run(people_2(), table_name=\"people\", write_disposition=\"merge\", primary_key='id')\n",
    "print(info)\n",
    "\n",
    "merged_people_df = conn.sql(\"SELECT * FROM people\").df()\n",
    "display(merged_people_df)\n",
    "sum_all_merged_people_age = merged_people_df['age'].sum()\n",
    "print('sum of ages of all merged people:', sum_all_merged_people_age)\n"
   ]
  },
  {
   "cell_type": "markdown",
   "metadata": {
    "id": "PoTJu4kbGG0z"
   },
   "source": [
    "Questions? difficulties? We are here to help.\n",
    "- DTC data engineering course channel: https://datatalks-club.slack.com/archives/C01FABYF2RG\n",
    "- dlt's DTC cohort channel: https://dlthub-community.slack.com/archives/C06GAEX2VNX"
   ]
  },
  {
   "cell_type": "code",
   "execution_count": null,
   "metadata": {},
   "outputs": [],
   "source": []
  }
 ],
 "metadata": {
  "colab": {
   "provenance": []
  },
  "kernelspec": {
   "display_name": "Python 3 (ipykernel)",
   "language": "python",
   "name": "python3"
  },
  "language_info": {
   "codemirror_mode": {
    "name": "ipython",
    "version": 3
   },
   "file_extension": ".py",
   "mimetype": "text/x-python",
   "name": "python",
   "nbconvert_exporter": "python",
   "pygments_lexer": "ipython3",
   "version": "3.9.10"
  }
 },
 "nbformat": 4,
 "nbformat_minor": 4
}
